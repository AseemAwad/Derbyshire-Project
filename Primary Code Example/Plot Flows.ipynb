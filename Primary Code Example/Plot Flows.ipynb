{
 "cells": [
  {
   "cell_type": "code",
   "execution_count": 1,
   "metadata": {
    "collapsed": false
   },
   "outputs": [
    {
     "name": "stdout",
     "output_type": "stream",
     "text": [
      "importing Jupyter notebook from Plot.ipynb\n"
     ]
    }
   ],
   "source": [
    "import nb_importHooks\n",
    "import Plot\n",
    "\n",
    "dcc_plot.dcc_plot()  #background map\n",
    "\n",
    "con = psycopg2.connect(database=dbname, user=username)\n",
    "cur = con.cursor()\n",
    "df_roads = gpd.GeoDataFrame.from_file(gis_file_path+'lines.shp') #as WGS84 latlon\n",
    "wgs84  = pyproj.Proj(init='epsg:4326')  #WGS84\n",
    "bng    = pyproj.Proj(init='epsg:27700') #british national grid\n",
    "\n",
    "dt_start  = datetime.datetime.strptime('2016-12-05_00:00:00' , \"%Y-%m-%d_%H:%M:%S\" )\n",
    "dt_end    = datetime.datetime.strptime('2016-12-10_00:00:00' , \"%Y-%m-%d_%H:%M:%S\" )\n",
    "sql = \"SELECT ways.gid, SUM(linkcount.count), ways.the_geom FROM ways, linkcount  WHERE linkcount.gid::int=ways.gid AND linkcount.timestamp>'%s' AND linkcount.timestamp<'%s'  GROUP BY ways.gid;\"%(dt_start,dt_end)\n",
    "print sql \n",
    "df_links = gpd.GeoDataFrame.from_postgis(sql,con,geom_col='the_geom')\n",
    "#    pdb.set_trace()  #GROUP BY , SUM \n",
    "for i in range(0,df_links.shape[0]): \n",
    "    link = df_links.iloc[i]\n",
    "    lons = link['the_geom'].coords.xy[0] #coordinates in latlon\n",
    "    lats = link['the_geom'].coords.xy[1]\n",
    "    gid = int(link.gid) \n",
    "    xs=[]\n",
    "    ys=[]\n",
    "    n_segments = len(lons)\n",
    "    for j in range(0, n_segments):\n",
    "        (x,y) = pyproj.transform(wgs84, bng, lons[j], lats[j]) #project to BNG -- uses nonISO lonlat convention  #TODO faster to cache this! \n",
    "        xs.append(x)\n",
    "        ys.append(y)\n",
    "    color='y'\n",
    "    lw = int(link['sum']/10000)\n",
    "    plot(xs, ys, color, linewidth=lw)  \n",
    "\n",
    "#show bluetooth sites\n",
    "sql = \"SELECT * from sensorsite;\"\n",
    "df_sites = pd.read_sql_query(sql, con)\n",
    "plot(df_sites.easting,df_sites.northing, 'bo')"
   ]
  }
 ],
 "metadata": {
  "anaconda-cloud": {},
  "kernelspec": {
   "display_name": "Python [default]",
   "language": "python",
   "name": "python2"
  },
  "language_info": {
   "codemirror_mode": {
    "name": "ipython",
    "version": 2
   },
   "file_extension": ".py",
   "mimetype": "text/x-python",
   "name": "python",
   "nbconvert_exporter": "python",
   "pygments_lexer": "ipython2",
   "version": "2.7.12"
  }
 },
 "nbformat": 4,
 "nbformat_minor": 1
}
