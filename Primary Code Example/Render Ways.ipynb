{
 "cells": [
  {
   "cell_type": "code",
   "execution_count": null,
   "metadata": {
    "collapsed": true
   },
   "outputs": [],
   "source": [
    "import mapnik\n",
    "from mapnik import PostGIS, Layer\n",
    "\n",
    "params = dict(dbname='dcc',table='ways',user='charles')\n",
    "params['estimate_extent'] = True\n",
    "#params['extent'] = '-20037508,-19929239,20037508,19929239'\n",
    "\n",
    "postgis = PostGIS(**params)\n",
    "\n",
    "layer = Layer('PostGIS Layer')\n",
    "layer.datasource = postgis\n",
    "\n",
    "map_canvas = mapnik.Map(500,500)\n",
    "map_canvas.background = mapnik.Color('rgb(0,0,0,0)') # transparent\n",
    "map_canvas.layers.append(layer)\n",
    "\n",
    "map_canvas.zoom_all()\n",
    "mapnik.render_to_file(map_canvas, 'test.png', 'png')"
   ]
  }
 ],
 "metadata": {
  "kernelspec": {
   "display_name": "Python [default]",
   "language": "python",
   "name": "python2"
  },
  "language_info": {
   "codemirror_mode": {
    "name": "ipython",
    "version": 2
   },
   "file_extension": ".py",
   "mimetype": "text/x-python",
   "name": "python",
   "nbconvert_exporter": "python",
   "pygments_lexer": "ipython2",
   "version": "2.7.12"
  }
 },
 "nbformat": 4,
 "nbformat_minor": 1
}
