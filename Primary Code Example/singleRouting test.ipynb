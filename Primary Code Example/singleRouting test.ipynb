{
 "cells": [
  {
   "cell_type": "code",
   "execution_count": null,
   "metadata": {
    "collapsed": true
   },
   "outputs": [],
   "source": [
    "import psycopg2\n",
    "import pandas as pd\n",
    "import geopandas as gpd\n",
    "import pyproj\n",
    "from pylab import *\n",
    "import pdb\n",
    "\n",
    "#to download derbyshire data, convert to routing format, and insert into pgrouting database:\n",
    "#wget http://api.openstreetmap.org/api/0.6/map?bbox=-1.4563,53.2478,-1.4011,53.2767 -O ~/data/osm/dcc.osm\n",
    "#osm2pgrouting  -f ~/data/osm/dcc.osm   -d dcc  -U charles  -W charles\n",
    "\n",
    "con = psycopg2.connect(database='dcc', user='charles')\n",
    "cur = con.cursor()\n",
    "\n",
    "#df_sites = gpd.GeoDataFrame.from_file('/home/charles/data/msc/dcc/examples/BluetoothUnits.shp') #in bng\n",
    "df_roads = gpd.GeoDataFrame.from_file('/home/charles/data/osm/dcc.shp/lines.shp') #as WGS84 latlon\n",
    "wgs84  = pyproj.Proj(init='epsg:4326')  #WGS84\n",
    "bng    = pyproj.Proj(init='epsg:27700') #british national grid\n",
    "\n",
    "#routing - gives a list of edge gids (not osm_ids, which may be split up into smaller gids by osm2pgr)\n",
    "sql = \"SELECT * FROM pgr_dijkstra('SELECT gid AS id,source,target,length AS cost FROM ways', 170,750, directed := false), ways WHERE ways.gid=pgr_dijkstra.edge;\"\n",
    "df_route = gpd.GeoDataFrame.from_postgis(sql,con,geom_col='the_geom')\n",
    "b_route=dict()\n",
    "routeEdgesOsmIDs = df_route['edge']\n",
    "for i in routeEdgesOsmIDs:\n",
    "    b_route[i]=1\n",
    "\n",
    "if 1:\n",
    "    #plot roads\n",
    "    sql = \"SELECT * FROM ways;\"\n",
    "    df_roads = gpd.GeoDataFrame.from_postgis(sql,con,geom_col='the_geom')\n",
    "\n",
    "    pdb.set_trace()\n",
    "\n",
    "    for i in range(0,df_roads.shape[0]): \n",
    "        road = df_roads.iloc[i]\n",
    "        lons = road['the_geom'].coords.xy[0] #coordinates in latlon\n",
    "        lats = road['the_geom'].coords.xy[1]\n",
    "        gid = int(road.gid) \n",
    "\n",
    "        xs=[]\n",
    "        ys=[]\n",
    "        n_segments = len(lons)\n",
    "        for j in range(0, n_segments):\n",
    "            (x,y) = pyproj.transform(wgs84, bng, lons[j], lats[j]) #project to BNG -- uses nonISO lonlat convention \n",
    "            xs.append(x)\n",
    "            ys.append(y)\n",
    "        color='y'\n",
    "        if gid in b_route:  #color the route in red, other roads yellow\n",
    "            color='r'\n",
    "        plot(xs, ys, color)  \n",
    "\n",
    "sql = \"SELECT * from sensorsite;\"\n",
    "df_sites = pd.read_sql_query(sql, con)\n",
    "plot(df_sites.easting,df_sites.northing, 'bo')\n"
   ]
  }
 ],
 "metadata": {
  "kernelspec": {
   "display_name": "Python [default]",
   "language": "python",
   "name": "python2"
  },
  "language_info": {
   "codemirror_mode": {
    "name": "ipython",
    "version": 2
   },
   "file_extension": ".py",
   "mimetype": "text/x-python",
   "name": "python",
   "nbconvert_exporter": "python",
   "pygments_lexer": "ipython2",
   "version": "2.7.12"
  }
 },
 "nbformat": 4,
 "nbformat_minor": 1
}
