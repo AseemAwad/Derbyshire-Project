{
 "cells": [
  {
   "cell_type": "code",
   "execution_count": 2,
   "metadata": {
    "collapsed": false
   },
   "outputs": [
    {
     "ename": "OperationalError",
     "evalue": "FATAL:  role \"charles\" does not exist\n",
     "output_type": "error",
     "traceback": [
      "\u001b[0;31m---------------------------------------------------------------------------\u001b[0m",
      "\u001b[0;31mOperationalError\u001b[0m                          Traceback (most recent call last)",
      "\u001b[0;32m<ipython-input-2-5ac280512e7e>\u001b[0m in \u001b[0;36m<module>\u001b[0;34m()\u001b[0m\n\u001b[1;32m     72\u001b[0m         \u001b[0mcon\u001b[0m\u001b[0;34m.\u001b[0m\u001b[0mcommit\u001b[0m\u001b[0;34m(\u001b[0m\u001b[0;34m)\u001b[0m\u001b[0;34m\u001b[0m\u001b[0m\n\u001b[1;32m     73\u001b[0m \u001b[0;34m\u001b[0m\u001b[0m\n\u001b[0;32m---> 74\u001b[0;31m \u001b[0mcon\u001b[0m \u001b[0;34m=\u001b[0m \u001b[0mpsycopg2\u001b[0m\u001b[0;34m.\u001b[0m\u001b[0mconnect\u001b[0m\u001b[0;34m(\u001b[0m\u001b[0mdatabase\u001b[0m\u001b[0;34m=\u001b[0m\u001b[0;34m'dcc'\u001b[0m\u001b[0;34m,\u001b[0m \u001b[0muser\u001b[0m\u001b[0;34m=\u001b[0m\u001b[0;34m'charles'\u001b[0m\u001b[0;34m)\u001b[0m\u001b[0;34m\u001b[0m\u001b[0m\n\u001b[0m\u001b[1;32m     75\u001b[0m \u001b[0mcur\u001b[0m \u001b[0;34m=\u001b[0m \u001b[0mcon\u001b[0m\u001b[0;34m.\u001b[0m\u001b[0mcursor\u001b[0m\u001b[0;34m(\u001b[0m\u001b[0;34m)\u001b[0m\u001b[0;34m\u001b[0m\u001b[0m\n\u001b[1;32m     76\u001b[0m \u001b[0mwgs84\u001b[0m  \u001b[0;34m=\u001b[0m \u001b[0mpyproj\u001b[0m\u001b[0;34m.\u001b[0m\u001b[0mProj\u001b[0m\u001b[0;34m(\u001b[0m\u001b[0minit\u001b[0m\u001b[0;34m=\u001b[0m\u001b[0;34m'epsg:4326'\u001b[0m\u001b[0;34m)\u001b[0m  \u001b[0;31m#WGS84\u001b[0m\u001b[0;34m\u001b[0m\u001b[0m\n",
      "\u001b[0;32m/Users/aseem_awad/Python/anaconda2/lib/python2.7/site-packages/psycopg2/__init__.pyc\u001b[0m in \u001b[0;36mconnect\u001b[0;34m(dsn, database, user, password, host, port, connection_factory, cursor_factory, async, **kwargs)\u001b[0m\n\u001b[1;32m    162\u001b[0m                 for (k, v) in items])\n\u001b[1;32m    163\u001b[0m \u001b[0;34m\u001b[0m\u001b[0m\n\u001b[0;32m--> 164\u001b[0;31m     \u001b[0mconn\u001b[0m \u001b[0;34m=\u001b[0m \u001b[0m_connect\u001b[0m\u001b[0;34m(\u001b[0m\u001b[0mdsn\u001b[0m\u001b[0;34m,\u001b[0m \u001b[0mconnection_factory\u001b[0m\u001b[0;34m=\u001b[0m\u001b[0mconnection_factory\u001b[0m\u001b[0;34m,\u001b[0m \u001b[0masync\u001b[0m\u001b[0;34m=\u001b[0m\u001b[0masync\u001b[0m\u001b[0;34m)\u001b[0m\u001b[0;34m\u001b[0m\u001b[0m\n\u001b[0m\u001b[1;32m    165\u001b[0m     \u001b[0;32mif\u001b[0m \u001b[0mcursor_factory\u001b[0m \u001b[0;32mis\u001b[0m \u001b[0;32mnot\u001b[0m \u001b[0mNone\u001b[0m\u001b[0;34m:\u001b[0m\u001b[0;34m\u001b[0m\u001b[0m\n\u001b[1;32m    166\u001b[0m         \u001b[0mconn\u001b[0m\u001b[0;34m.\u001b[0m\u001b[0mcursor_factory\u001b[0m \u001b[0;34m=\u001b[0m \u001b[0mcursor_factory\u001b[0m\u001b[0;34m\u001b[0m\u001b[0m\n",
      "\u001b[0;31mOperationalError\u001b[0m: FATAL:  role \"charles\" does not exist\n"
     ]
    }
   ],
   "source": [
    "import basic_system_data\n",
    "import geopandas as gpd\n",
    "import pyproj\n",
    "from pylab import *\n",
    "import math\n",
    "\n",
    "#must use overpass API to get larger boxes of data\n",
    "# wget http://api.openstreetmap.org/api/0.6/map?bbox=-1.5494,53.2767,-1.3053,53.3159 -O ~/data/osm/dcc.osm\n",
    "#ogr2ogr --config OSM_USE_CUSTOM_INDEXING NO -skipfailures -f \"ESRI Shapefile\" ~/data/osm/dcc.shp/ ~/data/osm/dcc.osm\n",
    "\n",
    "#deprecated as shapefile is missing some sites\n",
    "#def importBluetoothSitesFromShapeFile():\n",
    "#    df_sites = gpd.GeoDataFrame.from_file('/home/charles/data/msc/dcc/examples/BluetoothUnits.shp') #in bng\n",
    "#    for i in range(0, len(df_sites.index)):\n",
    "#        if math.isnan(df_sites['C2_No'].iloc[i]):\n",
    "#            continue\n",
    "#        sensorID = str(int(df_sites['C2_No'].iloc[i]))\n",
    "#        easting = df_sites['Easting'].iloc[i]\n",
    "#        northing = df_sites['Northing'].iloc[i]\n",
    "#        sensorType = \"bluetooth\"\n",
    "#        sql=\"INSERT INTO sensorsite (sensorID, sensorType, easting, northing)  VALUES ( '%s', '%s', %f, %f);\"%(sensorID, sensorType, easting, northing)\n",
    "#       print sql\n",
    "#       cur.execute(sql)\n",
    "#       con.commit()\n",
    "\n",
    "def importBluetoothSitesFromWebCsv():\n",
    "    #NB i mnaually removed commas from the name field in the csv download file first\n",
    "    fn = \"/home/charles/data/msc/dcc/web_bluetooth_sites.csv\"\n",
    "    c=0\n",
    "    for line in open(fn):\n",
    "        c+=1\n",
    "        if c<3:\n",
    "            continue\n",
    "        line=line.strip()\n",
    "        fields=line.split(\",\")\n",
    "        (name, sensorID, desc, grid, ori) =fields\n",
    "        if sensorID[0:3]==\"MAC\":\n",
    "            sensorID = sensorID[7:]\n",
    "        easting  = float(grid[0:6])\n",
    "        northing = float(grid[6:12])\n",
    "        sensorType = \"bluetooth\"\n",
    "        sql=\"INSERT INTO sensorsite (sensorID, sensorType, easting, northing)  VALUES ( '%s', '%s', %f, %f);\"%(sensorID, sensorType, easting, northing)\n",
    "        print sql\n",
    "        cur.execute(sql)\n",
    "        con.commit()\n",
    "\n",
    "def importRouteDefintions():\n",
    "    fn = \"/home/charles/data/msc/dcc/sample2_JourneyTimes20161205_201612WithRouteGuide_sheet2.csv\"\n",
    "    for line in open(fn):\n",
    "        line=line.strip()\n",
    "        fields=line.split(\",\")\n",
    "        (foo,routeID,bar,ack,origin,destination,fez)=fields\n",
    "        origin=origin[0:5]\n",
    "        destination=destination[0:5]\n",
    "        sql=\"INSERT INTO route (routeID, originSiteID, destSiteID)  VALUES ( '%s', '%s', '%s');\"%(routeID, origin, destination)\n",
    "        print sql\n",
    "        cur.execute(sql)\n",
    "        con.commit()\n",
    "\n",
    "def importRouteCounts():\n",
    "    fn = \"/home/charles/data/msc/dcc/sample2_JourneyTimes20161205_201612WithRouteGuide_sheet1.csv\"\n",
    "    for line in open(fn):\n",
    "        line=line.strip()\n",
    "        fields=line.split(\",\")\n",
    "        (foo,routeID,timestamp,window,count,bar)=fields\n",
    "        window=int(window)\n",
    "        count=int(count)\n",
    "        sql=\"INSERT INTO routecount (routeID, timestamp, winlenseconds, count)  VALUES ( '%s', '%s', %d, %d);\"%(routeID, timestamp, window, count)\n",
    "        print sql\n",
    "        cur.execute(sql)\n",
    "        con.commit()\n",
    "\n",
    "con = psycopg2.connect(database='TDSmain', user='aseem_awad')\n",
    "cur = con.cursor()\n",
    "wgs84  = pyproj.Proj(init='epsg:4326')  #WGS84\n",
    "bng    = pyproj.Proj(init='epsg:27700') #british national grid\n",
    "\n",
    "importBluetoothSitesFromWebCsv()\n",
    "importRouteDefintions()\n",
    "importRouteCounts()\n"
   ]
  },
  {
   "cell_type": "code",
   "execution_count": null,
   "metadata": {
    "collapsed": true
   },
   "outputs": [],
   "source": []
  }
 ],
 "metadata": {
  "kernelspec": {
   "display_name": "Python [default]",
   "language": "python",
   "name": "python2"
  },
  "language_info": {
   "codemirror_mode": {
    "name": "ipython",
    "version": 2
   },
   "file_extension": ".py",
   "mimetype": "text/x-python",
   "name": "python",
   "nbconvert_exporter": "python",
   "pygments_lexer": "ipython2",
   "version": "2.7.12"
  }
 },
 "nbformat": 4,
 "nbformat_minor": 1
}
