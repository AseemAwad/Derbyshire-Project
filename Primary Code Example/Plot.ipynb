{
 "cells": [
  {
   "cell_type": "code",
   "execution_count": 1,
   "metadata": {
    "collapsed": false
   },
   "outputs": [
    {
     "name": "stdout",
     "output_type": "stream",
     "text": [
      "Hello\n"
     ]
    }
   ],
   "source": [
    "import basic_system_data\n",
    "import geopandas as gpd\n",
    "import pyproj\n",
    "import pdb\n",
    "from pylab import *\n",
    "import pandas as pd\n",
    "import datetime\n",
    "\n",
    "def dcc_plot():\n",
    "    #site arrive in British National Grid projection;  roads arrive in WGS84 lonlat\n",
    "    df_sites = gpd.GeoDataFrame.from_file('/home/charles/data/msc/dcc/examples/BluetoothUnits.shp')\n",
    "    df_roads = gpd.GeoDataFrame.from_file('/home/charles/data/osm/dcc.shp/lines.shp') #as latlon\n",
    "    wgs84  = pyproj.Proj(init='epsg:4326')  #WGS84\n",
    "    bng    = pyproj.Proj(init='epsg:27700') #british national grid\n",
    "    #plot roads\n",
    "    clf()\n",
    "    N_roads=df_roads.shape[0] \n",
    "    for i in range(0,N_roads): \n",
    "        road = df_roads.iloc[i]\n",
    "        lons = road['geometry'].coords.xy[0] #coordinates in latlon\n",
    "        lats = road['geometry'].coords.xy[1]\n",
    "        xs=[]\n",
    "        ys=[]\n",
    "        n_segments = len(lons)\n",
    "        for j in range(0, n_segments):\n",
    "            (x,y) = pyproj.transform(wgs84, bng, lons[j], lats[j]) #nonISO lonlat! \n",
    "            xs.append(x)\n",
    "            ys.append(y)\n",
    "        color='k'\n",
    "        if road['highway']==\"motorway\":\n",
    "            color = 'b'\n",
    "        if road['highway']==\"trunk\":\n",
    "            color = 'g'\n",
    "        if road['highway']==\"primary\":\n",
    "            color = 'r'\n",
    "        if road['highway']==\"secondary\":\n",
    "            color = 'r'\n",
    "        if road['highway']==\"tertiary\":\n",
    "            color = 'm'\n",
    "        if road['highway']==\"residential\":\n",
    "            color = 'y'\n",
    "        if road['highway']==\"service\":\n",
    "            color = 'y'\n",
    "        plot(xs, ys, color)  \n",
    "    #    plot bluetooth sites (NG meters)\n",
    "    for i in range(0,df_sites.shape[0]): \n",
    "        site = df_sites.iloc[i]\n",
    "        x = site.geometry.xy[0][0]\n",
    "        y = site.geometry.xy[1][0]\n",
    "        plot(x,y, 'bo')\n",
    "\n",
    "if __name__==\"__main__\":\n",
    "    dcc_plot()\n"
   ]
  }
 ],
 "metadata": {
  "anaconda-cloud": {},
  "kernelspec": {
   "display_name": "Python [default]",
   "language": "python",
   "name": "python2"
  },
  "language_info": {
   "codemirror_mode": {
    "name": "ipython",
    "version": 2
   },
   "file_extension": ".py",
   "mimetype": "text/x-python",
   "name": "python",
   "nbconvert_exporter": "python",
   "pygments_lexer": "ipython2",
   "version": "2.7.12"
  }
 },
 "nbformat": 4,
 "nbformat_minor": 1
}
