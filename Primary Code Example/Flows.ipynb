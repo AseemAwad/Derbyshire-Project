{
 "cells": [
  {
   "cell_type": "code",
   "execution_count": 2,
   "metadata": {
    "collapsed": false
   },
   "outputs": [],
   "source": [
    "import psycopg2\n",
    "import basic_system_data\n",
    "from pandas import read_sql_query\n",
    "import geopandas as gpd\n",
    "import pyproj\n",
    "from pylab import *\n",
    "import pdb\n",
    "\n",
    "#this reads the counts for each route, and distributes them as counts on their constituent road link segments\n",
    "\n",
    "con = psycopg2.connect(database=basic_system_data.dbname, user=basic_system_data.username)\n",
    "cur = con.cursor()\n",
    "wgs84  = pyproj.Proj(init='epsg:4326')  #WGS84\n",
    "bng    = pyproj.Proj(init='epsg:27700') #british national grid\n",
    "sql = \"SELECT * FROM routecount, route WHERE routecount.routeid=route.routeid AND route.originsiteid != '';\" #only get good routes\n",
    "df_rc = read_sql_query(sql,con)\n",
    "for i in range(0,df_rc.shape[0]): \n",
    "    rc=df_rc.iloc[i]\n",
    "    sql = \"SELECT * FROM routelink WHERE routeid='%s'\"%rc['routeid'][0]     #get cached list of gid links in this route\n",
    "    df_links = read_sql_query(sql,con)\n",
    "    count = rc['count']\n",
    "    winlenseconds = rc['winlenseconds']\n",
    "    for j in range(0,df_links.shape[0]):\n",
    "        timestamp = rc['timestamp'] #TODO  should estimate what time this link was reached - hacking here\n",
    "        link = df_links.iloc[j]                   #route component\n",
    "        gid_link = link['link_gid']\n",
    "        sql = \"INSERT INTO linkcount (gid, timestamp, winlenseconds, count) VALUES ('%s', '%s', %d, %d);\"%(gid_link, timestamp, winlenseconds, count)\n",
    "        print sql\n",
    "        cur.execute(sql)\n",
    "        con.commit()\n",
    "\n"
   ]
  }
 ],
 "metadata": {
  "anaconda-cloud": {},
  "kernelspec": {
   "display_name": "Python [default]",
   "language": "python",
   "name": "python2"
  },
  "language_info": {
   "codemirror_mode": {
    "name": "ipython",
    "version": 2
   },
   "file_extension": ".py",
   "mimetype": "text/x-python",
   "name": "python",
   "nbconvert_exporter": "python",
   "pygments_lexer": "ipython2",
   "version": "2.7.12"
  }
 },
 "nbformat": 4,
 "nbformat_minor": 1
}
