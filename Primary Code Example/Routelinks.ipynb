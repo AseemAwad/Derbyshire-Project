{
 "cells": [
  {
   "cell_type": "code",
   "execution_count": null,
   "metadata": {
    "collapsed": true
   },
   "outputs": [],
   "source": [
    "import psycopg2\n",
    "import pandas as pd\n",
    "import geopandas as gpd\n",
    "import pyproj\n",
    "from pylab import *\n",
    "import pdb\n",
    "\n",
    "#caches a list of all the routing link elements (gids) for each known routeID, to allow faster lookup during count processing.\n",
    "\n",
    "con = psycopg2.connect(database='dcc', user='charles')\n",
    "cur = con.cursor()\n",
    "wgs84  = pyproj.Proj(init='epsg:4326')  #WGS84\n",
    "bng    = pyproj.Proj(init='epsg:27700') #british national grid\n",
    "sql = \"SELECT * FROM route WHERE route.originsiteid != '';\"\n",
    "df = pd.read_sql_query(sql,con)\n",
    "for i in range(0,df.shape[0]): \n",
    "    route = df.iloc[i]\n",
    "    originSiteID = route['originsiteid']\n",
    "    destSiteID = route['destsiteid']\n",
    "    #get O and D blueooth sensor site GPS\n",
    "    sql = \"SELECT * FROM sensorsite WHERE sensorID='%s'\"%originSiteID\n",
    "    df_o = pd.read_sql_query(sql,con)\n",
    "    sql = \"SELECT * FROM sensorsite WHERE sensorID='%s'\"%destSiteID\n",
    "    df_d = pd.read_sql_query(sql,con)\n",
    "    if df_o.shape[0]==0:\n",
    "        print \"no data for \"+originSiteID\n",
    "        continue\n",
    "    if df_d.shape[0]==0:\n",
    "        print \"no data for \"+destSiteID\n",
    "        continue       #if missing site info, skip this route\n",
    "    o_easting = df_o['easting'][0]\n",
    "    o_northing = df_o['northing'][0]\n",
    "    d_easting = df_d['easting'][0]\n",
    "    d_northing = df_d['northing'][0]\n",
    "    #find nearest O and D road links to sensor locations \n",
    "    (o_lon,o_lat) = pyproj.transform(bng, wgs84, o_easting, o_northing) #project uses nonISO lonlat convention \n",
    "    (d_lon,d_lat) = pyproj.transform(bng, wgs84, d_easting, d_northing) #project uses nonISO lonlat convention \n",
    "    sql = \"SELECT gid,name,ST_Distance(ways.the_geom,ST_SetSRID(ST_MakePoint(%f, %f),4326)) FROM ways ORDER BY 3 ASC LIMIT 1;\"%(o_lon,o_lat)    #4326=SRID code for WGS84\n",
    "    print sql\n",
    "    df_on = pd.read_sql_query(sql,con)\n",
    "    o_link_gid = df_on['gid'][0]\n",
    "    sql = \"SELECT gid,name,ST_Distance(ways.the_geom,ST_SetSRID(ST_MakePoint(%f, %f),4326)) FROM ways ORDER BY 3 ASC LIMIT 1;\"%(d_lon,d_lat) \n",
    "    df_dn = pd.read_sql_query(sql,con)  #dest nearest link\n",
    "    d_link_gid = df_dn['gid'][0]\n",
    "    #print(\"routeID:%s, originSiteID:%s , destSiteID:%s , o_link_gid:%s, d_link_gid:%s  \"%(route['routeid'],originSiteID,destSiteID, o_link_gid, d_link_gid))\n",
    "    #find fastest route between them\n",
    "    sql = \"SELECT * FROM pgr_dijkstra('SELECT gid AS id, source, target, length AS cost FROM ways', %d,%d, directed := false), ways  WHERE ways.gid=pgr_dijkstra.edge;\"%(o_link_gid, d_link_gid)\n",
    "    print sql\n",
    "    df_route = gpd.GeoDataFrame.from_postgis(sql,con,geom_col='the_geom')\n",
    "    #add a row of counts for each link in the route (at which time? TODO currently using origin time- interpolate?)\n",
    "    for i in range(0,df_route.shape[0]):\n",
    "        rc = df_route.iloc[i]                   #route component\n",
    "        sql = \"INSERT INTO routelink (routeid, link_gid) VALUES ('%s', %s);\"%(route['routeid'], rc['gid'])\n",
    "        print sql\n",
    "        cur.execute(sql)\n",
    "        con.commit()"
   ]
  }
 ],
 "metadata": {
  "kernelspec": {
   "display_name": "Python [default]",
   "language": "python",
   "name": "python2"
  },
  "language_info": {
   "codemirror_mode": {
    "name": "ipython",
    "version": 2
   },
   "file_extension": ".py",
   "mimetype": "text/x-python",
   "name": "python",
   "nbconvert_exporter": "python",
   "pygments_lexer": "ipython2",
   "version": "2.7.12"
  }
 },
 "nbformat": 4,
 "nbformat_minor": 1
}
